{
 "cells": [
  {
   "cell_type": "markdown",
   "metadata": {},
   "source": [
    "# Gaussian Elimination with Substeps in LaTex"
   ]
  },
  {
   "cell_type": "markdown",
   "metadata": {},
   "source": [
    "This notebook is for demonstration purpose, in order to explain the Gauss-Algorithm. We will solve a linear system of equations, of the Form:"
   ]
  },
  {
   "cell_type": "markdown",
   "metadata": {},
   "source": [
    "$$\\mathbf{A} \\cdot \\vec{x} = \\vec{b} \\Longleftrightarrow \\begin{bmatrix}\n",
    "a_{11}\t\t& \\dots\t & a_{1n}      \\\\\n",
    "a_{21}\t\t& \\dots  & a_{2n}\t  \\\\\n",
    "\\vdots\t& \\ddots\t & \\vdots \\\\\n",
    "a_{n1} \t& \\dots  & a_{nn}\n",
    "\\end{bmatrix} \\cdot\n",
    "\\begin{bmatrix}\n",
    "x_{1}\\\\\n",
    "x_{2}\\\\\n",
    "\\vdots\\\\\n",
    "x_{n}\n",
    "\\end{bmatrix} =\n",
    "\\begin{bmatrix}\n",
    "b_{1}\\\\\n",
    "b_{2}\\\\\n",
    "\\vdots\\\\\n",
    "b_{n}\n",
    "\\end{bmatrix}$$"
   ]
  },
  {
   "cell_type": "markdown",
   "metadata": {},
   "source": [
    "Define $\\mathbf{A}$ and $\\vec{b}$:"
   ]
  },
  {
   "cell_type": "code",
   "execution_count": 1,
   "metadata": {},
   "outputs": [],
   "source": [
    "A = [[3, 2, -4, 5], [2, 3, 3, 2], [1, 6, 1, 5], [1, -3, 1, 7]] #Change this, to fit your needs\n",
    "b = [3, 15, 14, 6]"
   ]
  },
  {
   "cell_type": "code",
   "execution_count": 2,
   "metadata": {},
   "outputs": [],
   "source": [
    "# The advantage is, this does need no package and can be executed in an shell\n",
    "def linearsolver(A, b):\n",
    "    n = len(A)\n",
    "    M = A\n",
    "\n",
    "    i = 0\n",
    "    for x in M:\n",
    "        x.append(b[i])\n",
    "        i += 1\n",
    "\n",
    "    for k in range(n):\n",
    "        print ('Iteration ', k, ':')\n",
    "        for i in range(k, n):\n",
    "            if abs(M[i][k]) > abs(M[k][k]):\n",
    "                (M[k], M[i]) = (M[i], M[k])\n",
    "            else:\n",
    "                pass\n",
    "\n",
    "    # Show the matrix after swapping rows\n",
    "        for row in M:\n",
    "            print(row)\n",
    "        print('')\n",
    "\n",
    "        for j in range(k + 1, n):\n",
    "            q = float(M[j][k]) / M[k][k]\n",
    "            print ('Row ', j + 1, '- (', q, ') * Row', 1 + k)\n",
    "            for m in range(k, n + 1):\n",
    "                M[j][m] -= q * M[k][m]\n",
    "\n",
    "    # Show matrix after multiplying rows\n",
    "        for row in M:\n",
    "            print(row)\n",
    "        print('')\n",
    "\n",
    "    x = [0 for i in range(n)]\n",
    "\n",
    "    x[n - 1] = float(M[n - 1][n]) / M[n - 1][n - 1]\n",
    "    for i in range(n - 1, -1, -1):\n",
    "        z = 0\n",
    "        for j in range(i + 1, n):\n",
    "            z = z + float(M[i][j]) * x[j]\n",
    "        x[i] = float(M[i][n] - z) / M[i][i]\n",
    "    print(x)"
   ]
  },
  {
   "cell_type": "markdown",
   "metadata": {},
   "source": [
    "This code is based on a question from Stackoverflow. Now the last thing we need to do, is call that function, with our predefined arguments:"
   ]
  },
  {
   "cell_type": "code",
   "execution_count": 3,
   "metadata": {
    "scrolled": true
   },
   "outputs": [
    {
     "name": "stdout",
     "output_type": "stream",
     "text": [
      "Iteration  0 :\n",
      "[3, 2, -4, 5, 3]\n",
      "[2, 3, 3, 2, 15]\n",
      "[1, 6, 1, 5, 14]\n",
      "[1, -3, 1, 7, 6]\n",
      "\n",
      "Row  2 - ( 0.6666666666666666 ) * Row 1\n",
      "Row  3 - ( 0.3333333333333333 ) * Row 1\n",
      "Row  4 - ( 0.3333333333333333 ) * Row 1\n",
      "[3, 2, -4, 5, 3]\n",
      "[0.0, 1.6666666666666667, 5.666666666666666, -1.333333333333333, 13.0]\n",
      "[0.0, 5.333333333333333, 2.333333333333333, 3.3333333333333335, 13.0]\n",
      "[0.0, -3.6666666666666665, 2.333333333333333, 5.333333333333334, 5.0]\n",
      "\n",
      "Iteration  1 :\n",
      "[3, 2, -4, 5, 3]\n",
      "[0.0, 5.333333333333333, 2.333333333333333, 3.3333333333333335, 13.0]\n",
      "[0.0, 1.6666666666666667, 5.666666666666666, -1.333333333333333, 13.0]\n",
      "[0.0, -3.6666666666666665, 2.333333333333333, 5.333333333333334, 5.0]\n",
      "\n",
      "Row  3 - ( 0.31250000000000006 ) * Row 2\n",
      "Row  4 - ( -0.6875 ) * Row 2\n",
      "[3, 2, -4, 5, 3]\n",
      "[0.0, 5.333333333333333, 2.333333333333333, 3.3333333333333335, 13.0]\n",
      "[0.0, -2.220446049250313e-16, 4.937499999999999, -2.375, 8.9375]\n",
      "[0.0, 0.0, 3.9374999999999996, 7.625000000000001, 13.9375]\n",
      "\n",
      "Iteration  2 :\n",
      "[3, 2, -4, 5, 3]\n",
      "[0.0, 5.333333333333333, 2.333333333333333, 3.3333333333333335, 13.0]\n",
      "[0.0, -2.220446049250313e-16, 4.937499999999999, -2.375, 8.9375]\n",
      "[0.0, 0.0, 3.9374999999999996, 7.625000000000001, 13.9375]\n",
      "\n",
      "Row  4 - ( 0.7974683544303798 ) * Row 3\n",
      "[3, 2, -4, 5, 3]\n",
      "[0.0, 5.333333333333333, 2.333333333333333, 3.3333333333333335, 13.0]\n",
      "[0.0, -2.220446049250313e-16, 4.937499999999999, -2.375, 8.9375]\n",
      "[0.0, 0.0, 0.0, 9.518987341772153, 6.810126582278481]\n",
      "\n",
      "Iteration  3 :\n",
      "[3, 2, -4, 5, 3]\n",
      "[0.0, 5.333333333333333, 2.333333333333333, 3.3333333333333335, 13.0]\n",
      "[0.0, -2.220446049250313e-16, 4.937499999999999, -2.375, 8.9375]\n",
      "[0.0, 0.0, 0.0, 9.518987341772153, 6.810126582278481]\n",
      "\n",
      "[3, 2, -4, 5, 3]\n",
      "[0.0, 5.333333333333333, 2.333333333333333, 3.3333333333333335, 13.0]\n",
      "[0.0, -2.220446049250313e-16, 4.937499999999999, -2.375, 8.9375]\n",
      "[0.0, 0.0, 0.0, 9.518987341772153, 6.810126582278481]\n",
      "\n",
      "[1.9813829787234043, 1.0478723404255321, 2.154255319148936, 0.7154255319148936]\n"
     ]
    }
   ],
   "source": [
    "linearsolver(A,b)"
   ]
  },
  {
   "cell_type": "markdown",
   "metadata": {},
   "source": [
    "I tried my best, to format the Output, in a nice looking way, but this is a Notebook and we can use latex, so we can do much better (with an increased effort):"
   ]
  },
  {
   "cell_type": "markdown",
   "metadata": {},
   "source": [
    "$\\underline{\\mathbf{Note:}}$ Somehow A and b need to be redefined, even so I thought I left them untouched from Cell 1"
   ]
  },
  {
   "cell_type": "code",
   "execution_count": 4,
   "metadata": {},
   "outputs": [],
   "source": [
    "from IPython.display import Latex  # in order to output as latex\n",
    "\n",
    "\n",
    "def convertToRoman(n):\n",
    "    result = ''\n",
    "    for (arabic, roman) in zip((1000, 900, 500, 400, 100, 90, 50, 40, 10, 9, 5, 4, 1), 'M     CM   D    CD   C    XC  L   XL  X   IX V  IV I'.split()):\n",
    "        result += n // arabic * roman\n",
    "        n %= arabic\n",
    "    return result\n",
    "\n",
    "\n",
    "def linearsolverWithLaTex(A, b):\n",
    "    precision = 4\n",
    "    n = len(A)\n",
    "    M = A\n",
    "    latex = '$$\\\\mathbf{A} \\\\vec{x} = \\\\vec{b} \\\\Longleftrightarrow'  # this string will contain all the formatted output in the end\n",
    "    latex += '\\\\begin{bmatrix}'\n",
    "    for row in M:\n",
    "        for l in range(0, n):\n",
    "            latex += ('{0:.' + str(precision) + 'f}').format(row[l]) \\\n",
    "                + ' &'\n",
    "        latex = ''.join(latex.split())[:-1]\n",
    "        latex += '\\\\\\\\'\n",
    "    latex += '\\\\end{bmatrix} \\\\cdot \\\\begin{bmatrix}'\n",
    "    for g in range(1, n + 1):\n",
    "        latex += 'x_{' + str(g) + '} \\\\\\\\'\n",
    "    latex += '\\\\end{bmatrix} = \\\\begin{bmatrix}'\n",
    "    for h in range(0, n):\n",
    "        latex += ('{0:.' + str(precision) + 'f}').format(b[h]) + '\\\\\\\\'\n",
    "    latex += \\\n",
    "        '\\\\end{bmatrix}$$ $$\\\\rightarrow \\\\mathit{Swap\\\\; rows\\\\; if\\\\; needed\\\\; or\\\\; convenient\\\\;} \\\\mathbf{(Pivoting)}$$'\n",
    "    conversion = ''\n",
    "\n",
    "    i = 0\n",
    "    for x in M:\n",
    "        x.append(b[i])\n",
    "        i += 1\n",
    "\n",
    "    for k in range(n):\n",
    "        latex += '$\\\\underline{\\\\text{Iteration }\\\\;' + str(k) + ':}$'\n",
    "        for g in range(0, k + 1):\n",
    "            conversion += '\\\\\\\\'\n",
    "        for i in range(k, n):\n",
    "            if abs(M[i][k]) > abs(M[k][k]):\n",
    "                (M[k], M[i]) = (M[i], M[k])\n",
    "            else:\n",
    "                pass\n",
    "\n",
    "    # Show the matrix after swapping rows\n",
    "\n",
    "        latex += '$$\\\\left( \\\\left. \\\\begin{matrix}'\n",
    "        for row in M:\n",
    "            for l in range(0, n):\n",
    "                latex += ('{0:.' + str(precision) + 'f}'\n",
    "                          ).format(row[l]) + ' &'\n",
    "            latex = ''.join(latex.split())[:-1]\n",
    "            latex += '\\\\\\\\'\n",
    "        latex += '\\\\end{matrix} \\\\right| \\\\begin{matrix}'\n",
    "        for row in M:\n",
    "            latex += ('{0:.' + str(precision) + 'f}').format(row[n]) \\\n",
    "                + ' &'\n",
    "            latex = ''.join(latex.split())[:-1]\n",
    "            latex += '\\\\\\\\'\n",
    "        latex += '\\\\end{matrix} \\\\right)'\n",
    "\n",
    "        for j in range(k + 1, n):\n",
    "            cache = ''\n",
    "            q = float(M[j][k]) / M[k][k]\n",
    "            conversion += '\\\\mathrm{' + convertToRoman(j + 1) + '}- (' \\\n",
    "                + ('{0:.' + str(precision) + 'f}').format(q) \\\n",
    "                + \") \\\\cdot \\mathrm{\" + convertToRoman(1 + k) + '}\\\\\\\\'\n",
    "            for m in range(k, n + 1):\n",
    "                M[j][m] -= q * M[k][m]\n",
    "\n",
    "    # Show matrix after multiplying rows\n",
    "\n",
    "        cache += '$$\\\\left( \\\\left. \\\\begin{matrix}'\n",
    "        for row in M:\n",
    "            for l in range(0, n):\n",
    "                cache += ('{0:.' + str(precision) + 'f}'\n",
    "                          ).format(row[l]) + ' &'\n",
    "            cache = ''.join(cache.split())[:-1]\n",
    "            cache += '\\\\\\\\'\n",
    "        cache += '\\\\end{matrix} \\\\right| \\\\begin{matrix}'\n",
    "        for row in M:\n",
    "            cache += ('{0:.' + str(precision) + 'f}').format(row[n]) \\\n",
    "                + ' &'\n",
    "            cache = ''.join(cache.split())[:-1]\n",
    "            cache += '\\\\\\\\'\n",
    "        latex += '\\\\begin{matrix}' + conversion \\\n",
    "            + '\\\\end{matrix}$$ $$ \\\\mathrm{} $$' + cache \\\n",
    "            + '\\\\end{matrix} \\\\right) \\\\mathit{Swap\\\\; rows\\\\; if\\\\; needed\\\\; or\\\\; convenient\\\\;} \\\\mathbf{(Pivoting)}$$ $$ \\\\mathrm{} $$'\n",
    "        conversion = ''\n",
    "        cache = ''\n",
    "\n",
    "    x = [0 for i in range(n)]\n",
    "\n",
    "    x[n - 1] = float(M[n - 1][n]) / M[n - 1][n - 1]\n",
    "    for i in range(n - 1, -1, -1):\n",
    "        z = 0\n",
    "        for j in range(i + 1, n):\n",
    "            z = z + float(M[i][j]) * x[j]\n",
    "        x[i] = float(M[i][n] - z) / M[i][i]\n",
    "    latex += '$$ \\\\Longrightarrow \\\\vec{x} \\\\approx \\\\begin{bmatrix}'\n",
    "    for h in range(0, n):\n",
    "        latex += ('{0:.' + str(precision) + 'f}').format(x[h]) + '\\\\\\\\'\n",
    "    latex += '\\\\end{bmatrix}$$'\n",
    "    return latex"
   ]
  },
  {
   "cell_type": "code",
   "execution_count": 5,
   "metadata": {
    "scrolled": false
   },
   "outputs": [
    {
     "data": {
      "text/latex": [
       "$$\\mathbf{A}\\vec{x}=\\vec{b}\\Longleftrightarrow\\begin{bmatrix}3.0000&2.0000&-4.0000&5.0000\\\\2.0000&3.0000&3.0000&2.0000\\\\1.0000&6.0000&1.0000&5.0000\\\\1.0000&-3.0000&1.0000&7.0000\\\\\\end{bmatrix}\\cdot\\begin{bmatrix}x_{1}\\\\x_{2}\\\\x_{3}\\\\x_{4}\\\\\\end{bmatrix}=\\begin{bmatrix}3.0000\\\\15.0000\\\\14.0000\\\\6.0000\\\\\\end{bmatrix}$$$$\\rightarrow\\mathit{Swap\\;rows\\;if\\;needed\\;or\\;convenient\\;}\\mathbf{(Pivoting)}$$$\\underline{\\text{Iteration}\\;0:}$$$\\left(\\left.\\begin{matrix}3.0000&2.0000&-4.0000&5.0000\\\\2.0000&3.0000&3.0000&2.0000\\\\1.0000&6.0000&1.0000&5.0000\\\\1.0000&-3.0000&1.0000&7.0000\\\\\\end{matrix}\\right|\\begin{matrix}3.0000\\\\15.0000\\\\14.0000\\\\6.0000\\\\\\end{matrix}\\right)\\begin{matrix}\\\\\\mathrm{II}-(0.6667)\\cdot\\mathrm{I}\\\\\\mathrm{III}-(0.3333)\\cdot\\mathrm{I}\\\\\\mathrm{IV}-(0.3333)\\cdot\\mathrm{I}\\\\\\end{matrix}$$$$\\mathrm{}$$$$\\left(\\left.\\begin{matrix}3.0000&2.0000&-4.0000&5.0000\\\\0.0000&1.6667&5.6667&-1.3333\\\\0.0000&5.3333&2.3333&3.3333\\\\0.0000&-3.6667&2.3333&5.3333\\\\\\end{matrix}\\right|\\begin{matrix}3.0000\\\\13.0000\\\\13.0000\\\\5.0000\\\\\\end{matrix}\\right)\\mathit{Swap\\;rows\\;if\\;needed\\;or\\;convenient\\;}\\mathbf{(Pivoting)}$$$$\\mathrm{}$$$\\underline{\\text{Iteration}\\;1:}$$$\\left(\\left.\\begin{matrix}3.0000&2.0000&-4.0000&5.0000\\\\0.0000&5.3333&2.3333&3.3333\\\\0.0000&1.6667&5.6667&-1.3333\\\\0.0000&-3.6667&2.3333&5.3333\\\\\\end{matrix}\\right|\\begin{matrix}3.0000\\\\13.0000\\\\13.0000\\\\5.0000\\\\\\end{matrix}\\right)\\begin{matrix}\\\\\\\\\\mathrm{III}-(0.3125)\\cdot\\mathrm{II}\\\\\\mathrm{IV}-(-0.6875)\\cdot\\mathrm{II}\\\\\\end{matrix}$$$$\\mathrm{}$$$$\\left(\\left.\\begin{matrix}3.0000&2.0000&-4.0000&5.0000\\\\0.0000&5.3333&2.3333&3.3333\\\\0.0000&-0.0000&4.9375&-2.3750\\\\0.0000&0.0000&3.9375&7.6250\\\\\\end{matrix}\\right|\\begin{matrix}3.0000\\\\13.0000\\\\8.9375\\\\13.9375\\\\\\end{matrix}\\right)\\mathit{Swap\\;rows\\;if\\;needed\\;or\\;convenient\\;}\\mathbf{(Pivoting)}$$$$\\mathrm{}$$$\\underline{\\text{Iteration}\\;2:}$$$\\left(\\left.\\begin{matrix}3.0000&2.0000&-4.0000&5.0000\\\\0.0000&5.3333&2.3333&3.3333\\\\0.0000&-0.0000&4.9375&-2.3750\\\\0.0000&0.0000&3.9375&7.6250\\\\\\end{matrix}\\right|\\begin{matrix}3.0000\\\\13.0000\\\\8.9375\\\\13.9375\\\\\\end{matrix}\\right)\\begin{matrix}\\\\\\\\\\\\\\mathrm{IV}-(0.7975)\\cdot\\mathrm{III}\\\\\\end{matrix}$$$$\\mathrm{}$$$$\\left(\\left.\\begin{matrix}3.0000&2.0000&-4.0000&5.0000\\\\0.0000&5.3333&2.3333&3.3333\\\\0.0000&-0.0000&4.9375&-2.3750\\\\0.0000&0.0000&0.0000&9.5190\\\\\\end{matrix}\\right|\\begin{matrix}3.0000\\\\13.0000\\\\8.9375\\\\6.8101\\\\\\end{matrix}\\right)\\mathit{Swap\\;rows\\;if\\;needed\\;or\\;convenient\\;}\\mathbf{(Pivoting)}$$$$\\mathrm{}$$$\\underline{\\text{Iteration}\\;3:}$$$\\left(\\left.\\begin{matrix}3.0000&2.0000&-4.0000&5.0000\\\\0.0000&5.3333&2.3333&3.3333\\\\0.0000&-0.0000&4.9375&-2.3750\\\\0.0000&0.0000&0.0000&9.5190\\\\\\end{matrix}\\right|\\begin{matrix}3.0000\\\\13.0000\\\\8.9375\\\\6.8101\\\\\\end{matrix} \\right)\\begin{matrix}\\\\\\\\\\\\\\\\\\end{matrix}$$ $$ \\mathrm{} $$$$\\left(\\left.\\begin{matrix}3.0000&2.0000&-4.0000&5.0000\\\\0.0000&5.3333&2.3333&3.3333\\\\0.0000&-0.0000&4.9375&-2.3750\\\\0.0000&0.0000&0.0000&9.5190\\\\\\end{matrix}\\right|\\begin{matrix}3.0000\\\\13.0000\\\\8.9375\\\\6.8101\\\\\\end{matrix} \\right) \\mathit{Swap\\; rows\\; if\\; needed\\; or\\; convenient\\;} \\mathbf{(Pivoting)}$$ $$ \\mathrm{} $$$$ \\Longrightarrow \\vec{x} \\approx \\begin{bmatrix}1.9814\\\\1.0479\\\\2.1543\\\\0.7154\\\\\\end{bmatrix}$$"
      ],
      "text/plain": [
       "<IPython.core.display.Latex object>"
      ]
     },
     "execution_count": 5,
     "metadata": {},
     "output_type": "execute_result"
    }
   ],
   "source": [
    "A = [[3, 2, -4, 5], [2, 3, 3, 2], [1, 6, 1, 5], [1, -3, 1, 7]]  # Change this, to fit your needs\n",
    "b = [3, 15, 14, 6]\n",
    "Latex(linearsolverWithLaTex(A,b)) #get the string from the executed function and parse it"
   ]
  },
  {
   "cell_type": "markdown",
   "metadata": {},
   "source": [
    "The nice thing is, the unformatted code can easily be copy-pasted into latex. In order to get it as a String, simply execute the following code:"
   ]
  },
  {
   "cell_type": "code",
   "execution_count": 6,
   "metadata": {
    "scrolled": true
   },
   "outputs": [
    {
     "name": "stdout",
     "output_type": "stream",
     "text": [
      "$$\\mathbf{A}\\vec{x}=\\vec{b}\\Longleftrightarrow\\begin{bmatrix}3.0000&2.0000&-4.0000&5.0000\\\\2.0000&3.0000&3.0000&2.0000\\\\1.0000&6.0000&1.0000&5.0000\\\\1.0000&-3.0000&1.0000&7.0000\\\\\\end{bmatrix}\\cdot\\begin{bmatrix}x_{1}\\\\x_{2}\\\\x_{3}\\\\x_{4}\\\\\\end{bmatrix}=\\begin{bmatrix}3.0000\\\\15.0000\\\\14.0000\\\\6.0000\\\\\\end{bmatrix}$$$$\\rightarrow\\mathit{Swap\\;rows\\;if\\;needed\\;or\\;convenient\\;}\\mathbf{(Pivoting)}$$$\\underline{\\text{Iteration}\\;0:}$$$\\left(\\left.\\begin{matrix}3.0000&2.0000&-4.0000&5.0000\\\\2.0000&3.0000&3.0000&2.0000\\\\1.0000&6.0000&1.0000&5.0000\\\\1.0000&-3.0000&1.0000&7.0000\\\\\\end{matrix}\\right|\\begin{matrix}3.0000\\\\15.0000\\\\14.0000\\\\6.0000\\\\\\end{matrix}\\right)\\begin{matrix}\\\\\\mathrm{II}-(0.6667)\\cdot\\mathrm{I}\\\\\\mathrm{III}-(0.3333)\\cdot\\mathrm{I}\\\\\\mathrm{IV}-(0.3333)\\cdot\\mathrm{I}\\\\\\end{matrix}$$$$\\mathrm{}$$$$\\left(\\left.\\begin{matrix}3.0000&2.0000&-4.0000&5.0000\\\\0.0000&1.6667&5.6667&-1.3333\\\\0.0000&5.3333&2.3333&3.3333\\\\0.0000&-3.6667&2.3333&5.3333\\\\\\end{matrix}\\right|\\begin{matrix}3.0000\\\\13.0000\\\\13.0000\\\\5.0000\\\\\\end{matrix}\\right)\\mathit{Swap\\;rows\\;if\\;needed\\;or\\;convenient\\;}\\mathbf{(Pivoting)}$$$$\\mathrm{}$$$\\underline{\\text{Iteration}\\;1:}$$$\\left(\\left.\\begin{matrix}3.0000&2.0000&-4.0000&5.0000\\\\0.0000&5.3333&2.3333&3.3333\\\\0.0000&1.6667&5.6667&-1.3333\\\\0.0000&-3.6667&2.3333&5.3333\\\\\\end{matrix}\\right|\\begin{matrix}3.0000\\\\13.0000\\\\13.0000\\\\5.0000\\\\\\end{matrix}\\right)\\begin{matrix}\\\\\\\\\\mathrm{III}-(0.3125)\\cdot\\mathrm{II}\\\\\\mathrm{IV}-(-0.6875)\\cdot\\mathrm{II}\\\\\\end{matrix}$$$$\\mathrm{}$$$$\\left(\\left.\\begin{matrix}3.0000&2.0000&-4.0000&5.0000\\\\0.0000&5.3333&2.3333&3.3333\\\\0.0000&-0.0000&4.9375&-2.3750\\\\0.0000&0.0000&3.9375&7.6250\\\\\\end{matrix}\\right|\\begin{matrix}3.0000\\\\13.0000\\\\8.9375\\\\13.9375\\\\\\end{matrix}\\right)\\mathit{Swap\\;rows\\;if\\;needed\\;or\\;convenient\\;}\\mathbf{(Pivoting)}$$$$\\mathrm{}$$$\\underline{\\text{Iteration}\\;2:}$$$\\left(\\left.\\begin{matrix}3.0000&2.0000&-4.0000&5.0000\\\\0.0000&5.3333&2.3333&3.3333\\\\0.0000&-0.0000&4.9375&-2.3750\\\\0.0000&0.0000&3.9375&7.6250\\\\\\end{matrix}\\right|\\begin{matrix}3.0000\\\\13.0000\\\\8.9375\\\\13.9375\\\\\\end{matrix}\\right)\\begin{matrix}\\\\\\\\\\\\\\mathrm{IV}-(0.7975)\\cdot\\mathrm{III}\\\\\\end{matrix}$$$$\\mathrm{}$$$$\\left(\\left.\\begin{matrix}3.0000&2.0000&-4.0000&5.0000\\\\0.0000&5.3333&2.3333&3.3333\\\\0.0000&-0.0000&4.9375&-2.3750\\\\0.0000&0.0000&0.0000&9.5190\\\\\\end{matrix}\\right|\\begin{matrix}3.0000\\\\13.0000\\\\8.9375\\\\6.8101\\\\\\end{matrix}\\right)\\mathit{Swap\\;rows\\;if\\;needed\\;or\\;convenient\\;}\\mathbf{(Pivoting)}$$$$\\mathrm{}$$$\\underline{\\text{Iteration}\\;3:}$$$\\left(\\left.\\begin{matrix}3.0000&2.0000&-4.0000&5.0000\\\\0.0000&5.3333&2.3333&3.3333\\\\0.0000&-0.0000&4.9375&-2.3750\\\\0.0000&0.0000&0.0000&9.5190\\\\\\end{matrix}\\right|\\begin{matrix}3.0000\\\\13.0000\\\\8.9375\\\\6.8101\\\\\\end{matrix} \\right)\\begin{matrix}\\\\\\\\\\\\\\\\\\end{matrix}$$ $$ \\mathrm{} $$$$\\left(\\left.\\begin{matrix}3.0000&2.0000&-4.0000&5.0000\\\\0.0000&5.3333&2.3333&3.3333\\\\0.0000&-0.0000&4.9375&-2.3750\\\\0.0000&0.0000&0.0000&9.5190\\\\\\end{matrix}\\right|\\begin{matrix}3.0000\\\\13.0000\\\\8.9375\\\\6.8101\\\\\\end{matrix} \\right) \\mathit{Swap\\; rows\\; if\\; needed\\; or\\; convenient\\;} \\mathbf{(Pivoting)}$$ $$ \\mathrm{} $$$$ \\Longrightarrow \\vec{x} \\approx \\begin{bmatrix}1.9814\\\\1.0479\\\\2.1543\\\\0.7154\\\\\\end{bmatrix}$$\n"
     ]
    }
   ],
   "source": [
    "A = [[3, 2, -4, 5], [2, 3, 3, 2], [1, 6, 1, 5], [1, -3, 1, 7]]  # Change this, to fit your needs\n",
    "b = [3, 15, 14, 6]\n",
    "print(linearsolverWithLaTex(A,b)) #get an unformatted String, to paste into latex"
   ]
  },
  {
   "cell_type": "code",
   "execution_count": null,
   "metadata": {},
   "outputs": [],
   "source": []
  }
 ],
 "metadata": {
  "kernelspec": {
   "display_name": "Python 3",
   "language": "python",
   "name": "python3"
  },
  "language_info": {
   "codemirror_mode": {
    "name": "ipython",
    "version": 3
   },
   "file_extension": ".py",
   "mimetype": "text/x-python",
   "name": "python",
   "nbconvert_exporter": "python",
   "pygments_lexer": "ipython3",
   "version": "3.6.4"
  }
 },
 "nbformat": 4,
 "nbformat_minor": 2
}
